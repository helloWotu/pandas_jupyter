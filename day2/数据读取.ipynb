{
 "cells": [
  {
   "cell_type": "code",
   "execution_count": 2,
   "id": "70202388",
   "metadata": {},
   "outputs": [
    {
     "data": {
      "text/html": [
       "<div>\n",
       "<style scoped>\n",
       "    .dataframe tbody tr th:only-of-type {\n",
       "        vertical-align: middle;\n",
       "    }\n",
       "\n",
       "    .dataframe tbody tr th {\n",
       "        vertical-align: top;\n",
       "    }\n",
       "\n",
       "    .dataframe thead th {\n",
       "        text-align: right;\n",
       "    }\n",
       "</style>\n",
       "<table border=\"1\" class=\"dataframe\">\n",
       "  <thead>\n",
       "    <tr style=\"text-align: right;\">\n",
       "      <th></th>\n",
       "      <th>ymd</th>\n",
       "      <th>high</th>\n",
       "      <th>low</th>\n",
       "      <th>tianqi</th>\n",
       "      <th>fengxiang</th>\n",
       "      <th>fengli</th>\n",
       "      <th>aqi</th>\n",
       "      <th>aqiInfo</th>\n",
       "      <th>aqiLevel</th>\n",
       "    </tr>\n",
       "  </thead>\n",
       "  <tbody>\n",
       "    <tr>\n",
       "      <th>0</th>\n",
       "      <td>2021-01-01</td>\n",
       "      <td>1</td>\n",
       "      <td>-11</td>\n",
       "      <td>晴</td>\n",
       "      <td>东北风</td>\n",
       "      <td>1级</td>\n",
       "      <td>54</td>\n",
       "      <td>良</td>\n",
       "      <td>2</td>\n",
       "    </tr>\n",
       "    <tr>\n",
       "      <th>1</th>\n",
       "      <td>2021-01-02</td>\n",
       "      <td>0</td>\n",
       "      <td>-9</td>\n",
       "      <td>晴~多云</td>\n",
       "      <td>东北风</td>\n",
       "      <td>1级</td>\n",
       "      <td>78</td>\n",
       "      <td>良</td>\n",
       "      <td>2</td>\n",
       "    </tr>\n",
       "    <tr>\n",
       "      <th>2</th>\n",
       "      <td>2021-01-03</td>\n",
       "      <td>-1</td>\n",
       "      <td>-8</td>\n",
       "      <td>多云</td>\n",
       "      <td>东北风</td>\n",
       "      <td>1级</td>\n",
       "      <td>31</td>\n",
       "      <td>优</td>\n",
       "      <td>1</td>\n",
       "    </tr>\n",
       "    <tr>\n",
       "      <th>3</th>\n",
       "      <td>2021-01-04</td>\n",
       "      <td>0</td>\n",
       "      <td>-11</td>\n",
       "      <td>多云~晴</td>\n",
       "      <td>西北风</td>\n",
       "      <td>3级</td>\n",
       "      <td>36</td>\n",
       "      <td>优</td>\n",
       "      <td>1</td>\n",
       "    </tr>\n",
       "    <tr>\n",
       "      <th>4</th>\n",
       "      <td>2021-01-05</td>\n",
       "      <td>-2</td>\n",
       "      <td>-11</td>\n",
       "      <td>晴</td>\n",
       "      <td>西北风</td>\n",
       "      <td>2级</td>\n",
       "      <td>32</td>\n",
       "      <td>优</td>\n",
       "      <td>1</td>\n",
       "    </tr>\n",
       "  </tbody>\n",
       "</table>\n",
       "</div>"
      ],
      "text/plain": [
       "          ymd  high  low tianqi fengxiang fengli  aqi aqiInfo  aqiLevel\n",
       "0  2021-01-01     1  -11      晴       东北风     1级   54       良         2\n",
       "1  2021-01-02     0   -9   晴~多云       东北风     1级   78       良         2\n",
       "2  2021-01-03    -1   -8     多云       东北风     1级   31       优         1\n",
       "3  2021-01-04     0  -11   多云~晴       西北风     3级   36       优         1\n",
       "4  2021-01-05    -2  -11      晴       西北风     2级   32       优         1"
      ]
     },
     "execution_count": 2,
     "metadata": {},
     "output_type": "execute_result"
    }
   ],
   "source": [
    "import pandas as pd\n",
    "\n",
    "pwd = r'/Users/tuzy/Downloads/ant-learn-python-master/5分钟学会Python爬取天气数据/beijing_tianqi_2021.csv'\n",
    "\n",
    "df = pd.read_csv(pwd)\n",
    "df.head()"
   ]
  },
  {
   "cell_type": "code",
   "execution_count": 3,
   "id": "e06dd5cb",
   "metadata": {},
   "outputs": [
    {
     "data": {
      "text/plain": [
       "Index(['2021-01-01', '2021-01-02', '2021-01-03', '2021-01-04', '2021-01-05',\n",
       "       '2021-01-06', '2021-01-07', '2021-01-08', '2021-01-09', '2021-01-10',\n",
       "       ...\n",
       "       '2021-12-22', '2021-12-23', '2021-12-24', '2021-12-25', '2021-12-26',\n",
       "       '2021-12-27', '2021-12-28', '2021-12-29', '2021-12-30', '2021-12-31'],\n",
       "      dtype='object', name='ymd', length=365)"
      ]
     },
     "execution_count": 3,
     "metadata": {},
     "output_type": "execute_result"
    }
   ],
   "source": [
    "#设置日期作为索引，方便后续按日期筛选数据,  inplace=True表示直接替换掉之前的index\n",
    "df.set_index('ymd', inplace=True)\n",
    "\n",
    "df.index"
   ]
  },
  {
   "cell_type": "code",
   "execution_count": 4,
   "id": "44487a26",
   "metadata": {},
   "outputs": [
    {
     "data": {
      "text/html": [
       "<div>\n",
       "<style scoped>\n",
       "    .dataframe tbody tr th:only-of-type {\n",
       "        vertical-align: middle;\n",
       "    }\n",
       "\n",
       "    .dataframe tbody tr th {\n",
       "        vertical-align: top;\n",
       "    }\n",
       "\n",
       "    .dataframe thead th {\n",
       "        text-align: right;\n",
       "    }\n",
       "</style>\n",
       "<table border=\"1\" class=\"dataframe\">\n",
       "  <thead>\n",
       "    <tr style=\"text-align: right;\">\n",
       "      <th></th>\n",
       "      <th>high</th>\n",
       "      <th>low</th>\n",
       "      <th>tianqi</th>\n",
       "      <th>fengxiang</th>\n",
       "      <th>fengli</th>\n",
       "      <th>aqi</th>\n",
       "      <th>aqiInfo</th>\n",
       "      <th>aqiLevel</th>\n",
       "    </tr>\n",
       "    <tr>\n",
       "      <th>ymd</th>\n",
       "      <th></th>\n",
       "      <th></th>\n",
       "      <th></th>\n",
       "      <th></th>\n",
       "      <th></th>\n",
       "      <th></th>\n",
       "      <th></th>\n",
       "      <th></th>\n",
       "    </tr>\n",
       "  </thead>\n",
       "  <tbody>\n",
       "    <tr>\n",
       "      <th>2021-01-01</th>\n",
       "      <td>1</td>\n",
       "      <td>-11</td>\n",
       "      <td>晴</td>\n",
       "      <td>东北风</td>\n",
       "      <td>1级</td>\n",
       "      <td>54</td>\n",
       "      <td>良</td>\n",
       "      <td>2</td>\n",
       "    </tr>\n",
       "    <tr>\n",
       "      <th>2021-01-02</th>\n",
       "      <td>0</td>\n",
       "      <td>-9</td>\n",
       "      <td>晴~多云</td>\n",
       "      <td>东北风</td>\n",
       "      <td>1级</td>\n",
       "      <td>78</td>\n",
       "      <td>良</td>\n",
       "      <td>2</td>\n",
       "    </tr>\n",
       "    <tr>\n",
       "      <th>2021-01-03</th>\n",
       "      <td>-1</td>\n",
       "      <td>-8</td>\n",
       "      <td>多云</td>\n",
       "      <td>东北风</td>\n",
       "      <td>1级</td>\n",
       "      <td>31</td>\n",
       "      <td>优</td>\n",
       "      <td>1</td>\n",
       "    </tr>\n",
       "    <tr>\n",
       "      <th>2021-01-04</th>\n",
       "      <td>0</td>\n",
       "      <td>-11</td>\n",
       "      <td>多云~晴</td>\n",
       "      <td>西北风</td>\n",
       "      <td>3级</td>\n",
       "      <td>36</td>\n",
       "      <td>优</td>\n",
       "      <td>1</td>\n",
       "    </tr>\n",
       "    <tr>\n",
       "      <th>2021-01-05</th>\n",
       "      <td>-2</td>\n",
       "      <td>-11</td>\n",
       "      <td>晴</td>\n",
       "      <td>西北风</td>\n",
       "      <td>2级</td>\n",
       "      <td>32</td>\n",
       "      <td>优</td>\n",
       "      <td>1</td>\n",
       "    </tr>\n",
       "  </tbody>\n",
       "</table>\n",
       "</div>"
      ],
      "text/plain": [
       "            high  low tianqi fengxiang fengli  aqi aqiInfo  aqiLevel\n",
       "ymd                                                                 \n",
       "2021-01-01     1  -11      晴       东北风     1级   54       良         2\n",
       "2021-01-02     0   -9   晴~多云       东北风     1级   78       良         2\n",
       "2021-01-03    -1   -8     多云       东北风     1级   31       优         1\n",
       "2021-01-04     0  -11   多云~晴       西北风     3级   36       优         1\n",
       "2021-01-05    -2  -11      晴       西北风     2级   32       优         1"
      ]
     },
     "execution_count": 4,
     "metadata": {},
     "output_type": "execute_result"
    }
   ],
   "source": [
    "#更换index后，再次打印了一下数据\n",
    "df.head()"
   ]
  },
  {
   "cell_type": "markdown",
   "id": "1209a440",
   "metadata": {},
   "source": [
    "## 1.使用单个label进行查询\n",
    "\n",
    "行或者列，都可以只传入单个值，实现精准匹配"
   ]
  },
  {
   "cell_type": "code",
   "execution_count": 5,
   "id": "858ecbe5",
   "metadata": {},
   "outputs": [
    {
     "data": {
      "text/plain": [
       "'东北风'"
      ]
     },
     "execution_count": 5,
     "metadata": {},
     "output_type": "execute_result"
    }
   ],
   "source": [
    "#得到单个值\n",
    "df.loc['2021-01-02', 'fengxiang']"
   ]
  },
  {
   "cell_type": "code",
   "execution_count": 8,
   "id": "3fc75fa7",
   "metadata": {},
   "outputs": [
    {
     "data": {
      "text/plain": [
       "high        -1\n",
       "aqiLevel     1\n",
       "Name: 2021-01-03, dtype: object"
      ]
     },
     "execution_count": 8,
     "metadata": {},
     "output_type": "execute_result"
    }
   ],
   "source": [
    "#得到一个Series\n",
    "df.loc['2021-01-03', ['high','aqiLevel']]"
   ]
  },
  {
   "cell_type": "markdown",
   "id": "0c3aae61",
   "metadata": {},
   "source": [
    "## 2.使用值列表批量查询"
   ]
  },
  {
   "cell_type": "code",
   "execution_count": 9,
   "id": "ec1bcc10",
   "metadata": {},
   "outputs": [
    {
     "data": {
      "text/plain": [
       "ymd\n",
       "2021-01-04    多云~晴\n",
       "2021-01-05       晴\n",
       "2021-01-03      多云\n",
       "Name: tianqi, dtype: object"
      ]
     },
     "execution_count": 9,
     "metadata": {},
     "output_type": "execute_result"
    }
   ],
   "source": [
    "#得到一个Series\n",
    "df.loc[['2021-01-04','2021-01-05','2021-01-03'], 'tianqi']"
   ]
  },
  {
   "cell_type": "code",
   "execution_count": 11,
   "id": "1d6226c8",
   "metadata": {},
   "outputs": [
    {
     "data": {
      "text/html": [
       "<div>\n",
       "<style scoped>\n",
       "    .dataframe tbody tr th:only-of-type {\n",
       "        vertical-align: middle;\n",
       "    }\n",
       "\n",
       "    .dataframe tbody tr th {\n",
       "        vertical-align: top;\n",
       "    }\n",
       "\n",
       "    .dataframe thead th {\n",
       "        text-align: right;\n",
       "    }\n",
       "</style>\n",
       "<table border=\"1\" class=\"dataframe\">\n",
       "  <thead>\n",
       "    <tr style=\"text-align: right;\">\n",
       "      <th></th>\n",
       "      <th>tianqi</th>\n",
       "      <th>fengxiang</th>\n",
       "    </tr>\n",
       "    <tr>\n",
       "      <th>ymd</th>\n",
       "      <th></th>\n",
       "      <th></th>\n",
       "    </tr>\n",
       "  </thead>\n",
       "  <tbody>\n",
       "    <tr>\n",
       "      <th>2021-01-04</th>\n",
       "      <td>多云~晴</td>\n",
       "      <td>西北风</td>\n",
       "    </tr>\n",
       "    <tr>\n",
       "      <th>2021-01-05</th>\n",
       "      <td>晴</td>\n",
       "      <td>西北风</td>\n",
       "    </tr>\n",
       "    <tr>\n",
       "      <th>2021-01-03</th>\n",
       "      <td>多云</td>\n",
       "      <td>东北风</td>\n",
       "    </tr>\n",
       "  </tbody>\n",
       "</table>\n",
       "</div>"
      ],
      "text/plain": [
       "           tianqi fengxiang\n",
       "ymd                        \n",
       "2021-01-04   多云~晴       西北风\n",
       "2021-01-05      晴       西北风\n",
       "2021-01-03     多云       东北风"
      ]
     },
     "execution_count": 11,
     "metadata": {},
     "output_type": "execute_result"
    }
   ],
   "source": [
    "#得到一个Series\n",
    "df.loc[['2021-01-04','2021-01-05','2021-01-03'], ['tianqi','fengxiang']]"
   ]
  },
  {
   "cell_type": "markdown",
   "id": "aeac22d9",
   "metadata": {},
   "source": [
    "## 3.使用数值区间进行范围查询\n",
    "！！！ 注意：区间既包含开始，也包含结束"
   ]
  },
  {
   "cell_type": "code",
   "execution_count": 12,
   "id": "d3aec30c",
   "metadata": {},
   "outputs": [
    {
     "data": {
      "text/plain": [
       "ymd\n",
       "2021-01-01    东北风\n",
       "2021-01-02    东北风\n",
       "2021-01-03    东北风\n",
       "2021-01-04    西北风\n",
       "2021-01-05    西北风\n",
       "Name: fengxiang, dtype: object"
      ]
     },
     "execution_count": 12,
     "metadata": {},
     "output_type": "execute_result"
    }
   ],
   "source": [
    "# 行index按区间\n",
    "df.loc['2021-01-01':'2021-01-05', 'fengxiang']\n"
   ]
  },
  {
   "cell_type": "code",
   "execution_count": 13,
   "id": "0cb9f0f4",
   "metadata": {},
   "outputs": [
    {
     "data": {
      "text/plain": [
       "fengxiang    东北风\n",
       "fengli        1级\n",
       "aqi           54\n",
       "aqiInfo        良\n",
       "aqiLevel       2\n",
       "Name: 2021-01-01, dtype: object"
      ]
     },
     "execution_count": 13,
     "metadata": {},
     "output_type": "execute_result"
    }
   ],
   "source": [
    "# 列index按区间\n",
    "df.loc['2021-01-01', 'fengxiang':'aqiLevel']"
   ]
  },
  {
   "cell_type": "code",
   "execution_count": 14,
   "id": "4bf531fa",
   "metadata": {},
   "outputs": [
    {
     "data": {
      "text/html": [
       "<div>\n",
       "<style scoped>\n",
       "    .dataframe tbody tr th:only-of-type {\n",
       "        vertical-align: middle;\n",
       "    }\n",
       "\n",
       "    .dataframe tbody tr th {\n",
       "        vertical-align: top;\n",
       "    }\n",
       "\n",
       "    .dataframe thead th {\n",
       "        text-align: right;\n",
       "    }\n",
       "</style>\n",
       "<table border=\"1\" class=\"dataframe\">\n",
       "  <thead>\n",
       "    <tr style=\"text-align: right;\">\n",
       "      <th></th>\n",
       "      <th>fengxiang</th>\n",
       "      <th>fengli</th>\n",
       "      <th>aqi</th>\n",
       "      <th>aqiInfo</th>\n",
       "      <th>aqiLevel</th>\n",
       "    </tr>\n",
       "    <tr>\n",
       "      <th>ymd</th>\n",
       "      <th></th>\n",
       "      <th></th>\n",
       "      <th></th>\n",
       "      <th></th>\n",
       "      <th></th>\n",
       "    </tr>\n",
       "  </thead>\n",
       "  <tbody>\n",
       "    <tr>\n",
       "      <th>2021-01-01</th>\n",
       "      <td>东北风</td>\n",
       "      <td>1级</td>\n",
       "      <td>54</td>\n",
       "      <td>良</td>\n",
       "      <td>2</td>\n",
       "    </tr>\n",
       "    <tr>\n",
       "      <th>2021-01-02</th>\n",
       "      <td>东北风</td>\n",
       "      <td>1级</td>\n",
       "      <td>78</td>\n",
       "      <td>良</td>\n",
       "      <td>2</td>\n",
       "    </tr>\n",
       "    <tr>\n",
       "      <th>2021-01-03</th>\n",
       "      <td>东北风</td>\n",
       "      <td>1级</td>\n",
       "      <td>31</td>\n",
       "      <td>优</td>\n",
       "      <td>1</td>\n",
       "    </tr>\n",
       "    <tr>\n",
       "      <th>2021-01-04</th>\n",
       "      <td>西北风</td>\n",
       "      <td>3级</td>\n",
       "      <td>36</td>\n",
       "      <td>优</td>\n",
       "      <td>1</td>\n",
       "    </tr>\n",
       "    <tr>\n",
       "      <th>2021-01-05</th>\n",
       "      <td>西北风</td>\n",
       "      <td>2级</td>\n",
       "      <td>32</td>\n",
       "      <td>优</td>\n",
       "      <td>1</td>\n",
       "    </tr>\n",
       "  </tbody>\n",
       "</table>\n",
       "</div>"
      ],
      "text/plain": [
       "           fengxiang fengli  aqi aqiInfo  aqiLevel\n",
       "ymd                                               \n",
       "2021-01-01       东北风     1级   54       良         2\n",
       "2021-01-02       东北风     1级   78       良         2\n",
       "2021-01-03       东北风     1级   31       优         1\n",
       "2021-01-04       西北风     3级   36       优         1\n",
       "2021-01-05       西北风     2级   32       优         1"
      ]
     },
     "execution_count": 14,
     "metadata": {},
     "output_type": "execute_result"
    }
   ],
   "source": [
    "# 行和列都按区间\n",
    "df.loc['2021-01-01':'2021-01-05', 'fengxiang':'aqiLevel']"
   ]
  },
  {
   "cell_type": "markdown",
   "id": "8bfc6109",
   "metadata": {},
   "source": [
    "## 4.使用条件表达式查询\n",
    "\n",
    "bool列表的长度得等于行数或者列数\n",
    "\n",
    "简单条件查询，最低温度低于-10度的列表"
   ]
  },
  {
   "cell_type": "code",
   "execution_count": 20,
   "id": "f012feaa",
   "metadata": {},
   "outputs": [
    {
     "data": {
      "text/html": [
       "<div>\n",
       "<style scoped>\n",
       "    .dataframe tbody tr th:only-of-type {\n",
       "        vertical-align: middle;\n",
       "    }\n",
       "\n",
       "    .dataframe tbody tr th {\n",
       "        vertical-align: top;\n",
       "    }\n",
       "\n",
       "    .dataframe thead th {\n",
       "        text-align: right;\n",
       "    }\n",
       "</style>\n",
       "<table border=\"1\" class=\"dataframe\">\n",
       "  <thead>\n",
       "    <tr style=\"text-align: right;\">\n",
       "      <th></th>\n",
       "      <th>high</th>\n",
       "      <th>low</th>\n",
       "      <th>tianqi</th>\n",
       "      <th>fengxiang</th>\n",
       "      <th>fengli</th>\n",
       "      <th>aqi</th>\n",
       "      <th>aqiInfo</th>\n",
       "      <th>aqiLevel</th>\n",
       "    </tr>\n",
       "    <tr>\n",
       "      <th>ymd</th>\n",
       "      <th></th>\n",
       "      <th></th>\n",
       "      <th></th>\n",
       "      <th></th>\n",
       "      <th></th>\n",
       "      <th></th>\n",
       "      <th></th>\n",
       "      <th></th>\n",
       "    </tr>\n",
       "  </thead>\n",
       "  <tbody>\n",
       "    <tr>\n",
       "      <th>2021-01-01</th>\n",
       "      <td>1</td>\n",
       "      <td>-11</td>\n",
       "      <td>晴</td>\n",
       "      <td>东北风</td>\n",
       "      <td>1级</td>\n",
       "      <td>54</td>\n",
       "      <td>良</td>\n",
       "      <td>2</td>\n",
       "    </tr>\n",
       "    <tr>\n",
       "      <th>2021-01-04</th>\n",
       "      <td>0</td>\n",
       "      <td>-11</td>\n",
       "      <td>多云~晴</td>\n",
       "      <td>西北风</td>\n",
       "      <td>3级</td>\n",
       "      <td>36</td>\n",
       "      <td>优</td>\n",
       "      <td>1</td>\n",
       "    </tr>\n",
       "    <tr>\n",
       "      <th>2021-01-05</th>\n",
       "      <td>-2</td>\n",
       "      <td>-11</td>\n",
       "      <td>晴</td>\n",
       "      <td>西北风</td>\n",
       "      <td>2级</td>\n",
       "      <td>32</td>\n",
       "      <td>优</td>\n",
       "      <td>1</td>\n",
       "    </tr>\n",
       "    <tr>\n",
       "      <th>2021-01-06</th>\n",
       "      <td>0</td>\n",
       "      <td>-19</td>\n",
       "      <td>多云~晴</td>\n",
       "      <td>西北风</td>\n",
       "      <td>4级</td>\n",
       "      <td>64</td>\n",
       "      <td>良</td>\n",
       "      <td>2</td>\n",
       "    </tr>\n",
       "    <tr>\n",
       "      <th>2021-01-07</th>\n",
       "      <td>-7</td>\n",
       "      <td>-14</td>\n",
       "      <td>晴</td>\n",
       "      <td>西北风</td>\n",
       "      <td>3级</td>\n",
       "      <td>34</td>\n",
       "      <td>优</td>\n",
       "      <td>1</td>\n",
       "    </tr>\n",
       "    <tr>\n",
       "      <th>2021-12-25</th>\n",
       "      <td>-4</td>\n",
       "      <td>-11</td>\n",
       "      <td>晴</td>\n",
       "      <td>西北风</td>\n",
       "      <td>3级</td>\n",
       "      <td>17</td>\n",
       "      <td>优</td>\n",
       "      <td>1</td>\n",
       "    </tr>\n",
       "  </tbody>\n",
       "</table>\n",
       "</div>"
      ],
      "text/plain": [
       "            high  low tianqi fengxiang fengli  aqi aqiInfo  aqiLevel\n",
       "ymd                                                                 \n",
       "2021-01-01     1  -11      晴       东北风     1级   54       良         2\n",
       "2021-01-04     0  -11   多云~晴       西北风     3级   36       优         1\n",
       "2021-01-05    -2  -11      晴       西北风     2级   32       优         1\n",
       "2021-01-06     0  -19   多云~晴       西北风     4级   64       良         2\n",
       "2021-01-07    -7  -14      晴       西北风     3级   34       优         1\n",
       "2021-12-25    -4  -11      晴       西北风     3级   17       优         1"
      ]
     },
     "execution_count": 20,
     "metadata": {},
     "output_type": "execute_result"
    }
   ],
   "source": [
    "ret = df['low'] < -10\n",
    "df.loc[ret, :] # 后面的 ： 表示查询所有的列"
   ]
  },
  {
   "cell_type": "markdown",
   "id": "c621fe91",
   "metadata": {},
   "source": [
    "### 复杂天气查询，查一下2021年最完美的天气\n",
    "\n",
    "***注意，组合条件用&符号合并，每个条件都得带括号***"
   ]
  },
  {
   "cell_type": "code",
   "execution_count": 21,
   "id": "a0a8e876",
   "metadata": {},
   "outputs": [
    {
     "data": {
      "text/html": [
       "<div>\n",
       "<style scoped>\n",
       "    .dataframe tbody tr th:only-of-type {\n",
       "        vertical-align: middle;\n",
       "    }\n",
       "\n",
       "    .dataframe tbody tr th {\n",
       "        vertical-align: top;\n",
       "    }\n",
       "\n",
       "    .dataframe thead th {\n",
       "        text-align: right;\n",
       "    }\n",
       "</style>\n",
       "<table border=\"1\" class=\"dataframe\">\n",
       "  <thead>\n",
       "    <tr style=\"text-align: right;\">\n",
       "      <th></th>\n",
       "      <th>high</th>\n",
       "      <th>low</th>\n",
       "      <th>tianqi</th>\n",
       "      <th>fengxiang</th>\n",
       "      <th>fengli</th>\n",
       "      <th>aqi</th>\n",
       "      <th>aqiInfo</th>\n",
       "      <th>aqiLevel</th>\n",
       "    </tr>\n",
       "    <tr>\n",
       "      <th>ymd</th>\n",
       "      <th></th>\n",
       "      <th></th>\n",
       "      <th></th>\n",
       "      <th></th>\n",
       "      <th></th>\n",
       "      <th></th>\n",
       "      <th></th>\n",
       "      <th></th>\n",
       "    </tr>\n",
       "  </thead>\n",
       "  <tbody>\n",
       "    <tr>\n",
       "      <th>2021-06-03</th>\n",
       "      <td>28</td>\n",
       "      <td>17</td>\n",
       "      <td>晴</td>\n",
       "      <td>西北风</td>\n",
       "      <td>3级</td>\n",
       "      <td>28</td>\n",
       "      <td>优</td>\n",
       "      <td>1</td>\n",
       "    </tr>\n",
       "    <tr>\n",
       "      <th>2021-09-01</th>\n",
       "      <td>29</td>\n",
       "      <td>18</td>\n",
       "      <td>晴</td>\n",
       "      <td>西南风</td>\n",
       "      <td>2级</td>\n",
       "      <td>41</td>\n",
       "      <td>优</td>\n",
       "      <td>1</td>\n",
       "    </tr>\n",
       "    <tr>\n",
       "      <th>2021-09-07</th>\n",
       "      <td>27</td>\n",
       "      <td>17</td>\n",
       "      <td>晴</td>\n",
       "      <td>西南风</td>\n",
       "      <td>2级</td>\n",
       "      <td>32</td>\n",
       "      <td>优</td>\n",
       "      <td>1</td>\n",
       "    </tr>\n",
       "  </tbody>\n",
       "</table>\n",
       "</div>"
      ],
      "text/plain": [
       "            high  low tianqi fengxiang fengli  aqi aqiInfo  aqiLevel\n",
       "ymd                                                                 \n",
       "2021-06-03    28   17      晴       西北风     3级   28       优         1\n",
       "2021-09-01    29   18      晴       西南风     2级   41       优         1\n",
       "2021-09-07    27   17      晴       西南风     2级   32       优         1"
      ]
     },
     "execution_count": 21,
     "metadata": {},
     "output_type": "execute_result"
    }
   ],
   "source": [
    "## 查询最高温度小于30，最低温度大于15度， 并且天气为晴， 并且天气为优  的天气\n",
    "\n",
    "ret = (df['high'] < 30) & (df['low'] > 15) & (df['tianqi'] == '晴') & (df['aqiInfo'] == '优')\n",
    "df.loc[ret, :]"
   ]
  },
  {
   "cell_type": "markdown",
   "id": "60ad2253",
   "metadata": {},
   "source": [
    "## 4.使用函数进行查询\n",
    "\n",
    "后续再说"
   ]
  }
 ],
 "metadata": {
  "kernelspec": {
   "display_name": "Python 3 (ipykernel)",
   "language": "python",
   "name": "python3"
  },
  "language_info": {
   "codemirror_mode": {
    "name": "ipython",
    "version": 3
   },
   "file_extension": ".py",
   "mimetype": "text/x-python",
   "name": "python",
   "nbconvert_exporter": "python",
   "pygments_lexer": "ipython3",
   "version": "3.11.2"
  }
 },
 "nbformat": 4,
 "nbformat_minor": 5
}
